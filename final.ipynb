{
 "cells": [
  {
   "cell_type": "code",
   "execution_count": 36,
   "metadata": {},
   "outputs": [],
   "source": [
    "import pandas as pd\n",
    "import numpy as np\n",
    "import matplotlib.pyplot as plt\n",
    "import sklearn as sk\n",
    "import seaborn as sns\n",
    "from sklearn.model_selection import train_test_split\n",
    "from sklearn.preprocessing import StandardScaler\n",
    "from sklearn.metrics import roc_curve, auc,classification_report, accuracy_score, precision_recall_curve,confusion_matrix\n",
    "from imblearn.over_sampling import ADASYN\n",
    "from sklearn.ensemble import RandomForestClassifier\n",
    "import joblib"
   ]
  },
  {
   "cell_type": "code",
   "execution_count": null,
   "metadata": {},
   "outputs": [
    {
     "data": {
      "text/html": [
       "<div>\n",
       "<style scoped>\n",
       "    .dataframe tbody tr th:only-of-type {\n",
       "        vertical-align: middle;\n",
       "    }\n",
       "\n",
       "    .dataframe tbody tr th {\n",
       "        vertical-align: top;\n",
       "    }\n",
       "\n",
       "    .dataframe thead th {\n",
       "        text-align: right;\n",
       "    }\n",
       "</style>\n",
       "<table border=\"1\" class=\"dataframe\">\n",
       "  <thead>\n",
       "    <tr style=\"text-align: right;\">\n",
       "      <th></th>\n",
       "      <th>account_number</th>\n",
       "      <th>bad_flag</th>\n",
       "      <th>onus_attribute_1</th>\n",
       "      <th>transaction_attribute_1</th>\n",
       "      <th>transaction_attribute_2</th>\n",
       "      <th>transaction_attribute_3</th>\n",
       "      <th>transaction_attribute_4</th>\n",
       "      <th>transaction_attribute_5</th>\n",
       "      <th>transaction_attribute_6</th>\n",
       "      <th>transaction_attribute_7</th>\n",
       "      <th>...</th>\n",
       "      <th>bureau_enquiry_47</th>\n",
       "      <th>bureau_enquiry_48</th>\n",
       "      <th>bureau_enquiry_49</th>\n",
       "      <th>bureau_enquiry_50</th>\n",
       "      <th>onus_attribute_43</th>\n",
       "      <th>onus_attribute_44</th>\n",
       "      <th>onus_attribute_45</th>\n",
       "      <th>onus_attribute_46</th>\n",
       "      <th>onus_attribute_47</th>\n",
       "      <th>onus_attribute_48</th>\n",
       "    </tr>\n",
       "  </thead>\n",
       "  <tbody>\n",
       "    <tr>\n",
       "      <th>0</th>\n",
       "      <td>1</td>\n",
       "      <td>0</td>\n",
       "      <td>NaN</td>\n",
       "      <td>NaN</td>\n",
       "      <td>NaN</td>\n",
       "      <td>NaN</td>\n",
       "      <td>NaN</td>\n",
       "      <td>NaN</td>\n",
       "      <td>NaN</td>\n",
       "      <td>NaN</td>\n",
       "      <td>...</td>\n",
       "      <td>0.0</td>\n",
       "      <td>0.0</td>\n",
       "      <td>0.0</td>\n",
       "      <td>1.0</td>\n",
       "      <td>NaN</td>\n",
       "      <td>NaN</td>\n",
       "      <td>NaN</td>\n",
       "      <td>NaN</td>\n",
       "      <td>NaN</td>\n",
       "      <td>NaN</td>\n",
       "    </tr>\n",
       "    <tr>\n",
       "      <th>1</th>\n",
       "      <td>2</td>\n",
       "      <td>0</td>\n",
       "      <td>221000.0</td>\n",
       "      <td>0.0</td>\n",
       "      <td>0.0</td>\n",
       "      <td>0.0</td>\n",
       "      <td>0.0</td>\n",
       "      <td>0.0</td>\n",
       "      <td>0.0</td>\n",
       "      <td>0.0</td>\n",
       "      <td>...</td>\n",
       "      <td>0.0</td>\n",
       "      <td>0.0</td>\n",
       "      <td>2.0</td>\n",
       "      <td>3.0</td>\n",
       "      <td>0.0</td>\n",
       "      <td>0.0</td>\n",
       "      <td>0.0</td>\n",
       "      <td>0.0</td>\n",
       "      <td>0.0</td>\n",
       "      <td>0.0</td>\n",
       "    </tr>\n",
       "    <tr>\n",
       "      <th>2</th>\n",
       "      <td>3</td>\n",
       "      <td>0</td>\n",
       "      <td>25000.0</td>\n",
       "      <td>0.0</td>\n",
       "      <td>0.0</td>\n",
       "      <td>0.0</td>\n",
       "      <td>0.0</td>\n",
       "      <td>0.0</td>\n",
       "      <td>0.0</td>\n",
       "      <td>0.0</td>\n",
       "      <td>...</td>\n",
       "      <td>0.0</td>\n",
       "      <td>0.0</td>\n",
       "      <td>0.0</td>\n",
       "      <td>8.0</td>\n",
       "      <td>NaN</td>\n",
       "      <td>NaN</td>\n",
       "      <td>NaN</td>\n",
       "      <td>NaN</td>\n",
       "      <td>NaN</td>\n",
       "      <td>NaN</td>\n",
       "    </tr>\n",
       "    <tr>\n",
       "      <th>3</th>\n",
       "      <td>4</td>\n",
       "      <td>0</td>\n",
       "      <td>86000.0</td>\n",
       "      <td>0.0</td>\n",
       "      <td>0.0</td>\n",
       "      <td>0.0</td>\n",
       "      <td>0.0</td>\n",
       "      <td>0.0</td>\n",
       "      <td>0.0</td>\n",
       "      <td>0.0</td>\n",
       "      <td>...</td>\n",
       "      <td>0.0</td>\n",
       "      <td>0.0</td>\n",
       "      <td>0.0</td>\n",
       "      <td>30.0</td>\n",
       "      <td>NaN</td>\n",
       "      <td>NaN</td>\n",
       "      <td>NaN</td>\n",
       "      <td>NaN</td>\n",
       "      <td>NaN</td>\n",
       "      <td>NaN</td>\n",
       "    </tr>\n",
       "    <tr>\n",
       "      <th>4</th>\n",
       "      <td>5</td>\n",
       "      <td>0</td>\n",
       "      <td>215000.0</td>\n",
       "      <td>0.0</td>\n",
       "      <td>0.0</td>\n",
       "      <td>0.0</td>\n",
       "      <td>0.0</td>\n",
       "      <td>0.0</td>\n",
       "      <td>0.0</td>\n",
       "      <td>0.0</td>\n",
       "      <td>...</td>\n",
       "      <td>0.0</td>\n",
       "      <td>0.0</td>\n",
       "      <td>0.0</td>\n",
       "      <td>1.0</td>\n",
       "      <td>NaN</td>\n",
       "      <td>NaN</td>\n",
       "      <td>NaN</td>\n",
       "      <td>NaN</td>\n",
       "      <td>NaN</td>\n",
       "      <td>NaN</td>\n",
       "    </tr>\n",
       "  </tbody>\n",
       "</table>\n",
       "<p>5 rows × 1216 columns</p>\n",
       "</div>"
      ],
      "text/plain": [
       "   account_number  bad_flag  onus_attribute_1  transaction_attribute_1  \\\n",
       "0               1         0               NaN                      NaN   \n",
       "1               2         0          221000.0                      0.0   \n",
       "2               3         0           25000.0                      0.0   \n",
       "3               4         0           86000.0                      0.0   \n",
       "4               5         0          215000.0                      0.0   \n",
       "\n",
       "   transaction_attribute_2  transaction_attribute_3  transaction_attribute_4  \\\n",
       "0                      NaN                      NaN                      NaN   \n",
       "1                      0.0                      0.0                      0.0   \n",
       "2                      0.0                      0.0                      0.0   \n",
       "3                      0.0                      0.0                      0.0   \n",
       "4                      0.0                      0.0                      0.0   \n",
       "\n",
       "   transaction_attribute_5  transaction_attribute_6  transaction_attribute_7  \\\n",
       "0                      NaN                      NaN                      NaN   \n",
       "1                      0.0                      0.0                      0.0   \n",
       "2                      0.0                      0.0                      0.0   \n",
       "3                      0.0                      0.0                      0.0   \n",
       "4                      0.0                      0.0                      0.0   \n",
       "\n",
       "   ...  bureau_enquiry_47  bureau_enquiry_48  bureau_enquiry_49  \\\n",
       "0  ...                0.0                0.0                0.0   \n",
       "1  ...                0.0                0.0                2.0   \n",
       "2  ...                0.0                0.0                0.0   \n",
       "3  ...                0.0                0.0                0.0   \n",
       "4  ...                0.0                0.0                0.0   \n",
       "\n",
       "   bureau_enquiry_50  onus_attribute_43  onus_attribute_44  onus_attribute_45  \\\n",
       "0                1.0                NaN                NaN                NaN   \n",
       "1                3.0                0.0                0.0                0.0   \n",
       "2                8.0                NaN                NaN                NaN   \n",
       "3               30.0                NaN                NaN                NaN   \n",
       "4                1.0                NaN                NaN                NaN   \n",
       "\n",
       "   onus_attribute_46  onus_attribute_47  onus_attribute_48  \n",
       "0                NaN                NaN                NaN  \n",
       "1                0.0                0.0                0.0  \n",
       "2                NaN                NaN                NaN  \n",
       "3                NaN                NaN                NaN  \n",
       "4                NaN                NaN                NaN  \n",
       "\n",
       "[5 rows x 1216 columns]"
      ]
     },
     "execution_count": 3,
     "metadata": {},
     "output_type": "execute_result"
    }
   ],
   "source": [
    "data=pd.read_csv('Dev_data_to_be_shared.csv')\n",
    "data.head()"
   ]
  },
  {
   "cell_type": "code",
   "execution_count": 71,
   "metadata": {},
   "outputs": [
    {
     "name": "stdout",
     "output_type": "stream",
     "text": [
      "\n",
      "Target Variable Distribution (Frequency and %):\n",
      "          Frequency  Percentage (%)\n",
      "bad_flag                           \n",
      "0             95434           98.58\n",
      "1              1372            1.42\n"
     ]
    }
   ],
   "source": [
    "print(\"\\nTarget Variable Distribution (Frequency and %):\")\n",
    "distribution = data['bad_flag'].value_counts().to_frame(name='Frequency')\n",
    "distribution['Percentage (%)'] = (distribution['Frequency'] / len(data) * 100).round(2)\n",
    "print(distribution)"
   ]
  },
  {
   "cell_type": "code",
   "execution_count": 73,
   "metadata": {},
   "outputs": [
    {
     "name": "stdout",
     "output_type": "stream",
     "text": [
      "\n",
      "Target Variable Distribution (Frequency and %):\n",
      "          Frequency  Percentage (%)\n",
      "bad_flag                           \n",
      "0             95434           98.58\n",
      "1              1372            1.42\n",
      "Dataset Information:\n",
      "<class 'pandas.core.frame.DataFrame'>\n",
      "RangeIndex: 96806 entries, 0 to 96805\n",
      "Columns: 1216 entries, account_number to onus_attribute_48\n",
      "dtypes: float64(1189), int64(27)\n",
      "memory usage: 898.1 MB\n",
      "None\n"
     ]
    },
    {
     "data": {
      "image/png": "[encoded data removed]",
      "text/plain": [
       "<Figure size 800x600 with 1 Axes>"
      ]
     },
     "metadata": {},
     "output_type": "display_data"
    }
   ],
   "source": [
    "print(\"\\nTarget Variable Distribution (Frequency and %):\")\n",
    "distribution = data['bad_flag'].value_counts().to_frame(name='Frequency')\n",
    "distribution['Percentage (%)'] = (distribution['Frequency'] / len(data) * 100).round(2)\n",
    "print(distribution)\n",
    "print(\"Dataset Information:\")\n",
    "print(data.info())\n",
    "plt.figure(figsize=(8, 6))\n",
    "sns.countplot(data=data, x='bad_flag')\n",
    "plt.title('Distribution of Target Variable (bad_flag)')\n",
    "plt.show()"
   ]
  },
  {
   "cell_type": "code",
   "execution_count": 4,
   "metadata": {},
   "outputs": [],
   "source": [
    "#from the csv file we have\n",
    "#48 onus attribute columns\n",
    "#664 transaction attribute columns\n",
    "#452 bureau columns\n",
    "#50 bureau enquiry columns\n"
   ]
  },
  {
   "cell_type": "code",
   "execution_count": null,
   "metadata": {},
   "outputs": [
    {
     "data": {
      "image/png": "[encoded data removed]",
      "text/plain": [
       "<Figure size 1200x400 with 1 Axes>"
      ]
     },
     "metadata": {},
     "output_type": "display_data"
    }
   ],
   "source": [
    "missing=data.isnull().mean() * 100\n",
    "missing_percentages=missing.sort_values(ascending=False)\n",
    "\n",
    "plt.figure(figsize=(12,4))\n",
    "missing_percentages.plot(kind='bar', edgecolor='purple')\n",
    "\n",
    "plt.title('Percentage of Missing Values by Column', fontsize=16)\n",
    "plt.xlabel('Columns', fontsize=12)\n",
    "plt.ylabel('Percentage of Missing Values (%)', fontsize=12)\n",
    "plt.xticks(ticks=range(len(missing_percentages)), labels=[''] * len(missing_percentages), rotation=90)\n",
    "plt.grid(axis='y', linestyle='--', alpha=0.7)\n",
    "\n",
    "plt.tight_layout()\n",
    "plt.show()"
   ]
  },
  {
   "cell_type": "code",
   "execution_count": 6,
   "metadata": {},
   "outputs": [
    {
     "data": {
      "text/plain": [
       "0    26.063467\n",
       "dtype: float64"
      ]
     },
     "execution_count": 6,
     "metadata": {},
     "output_type": "execute_result"
    }
   ],
   "source": [
    "mode=missing.mode()\n",
    "mode"
   ]
  },
  {
   "cell_type": "code",
   "execution_count": 7,
   "metadata": {},
   "outputs": [
    {
     "name": "stdout",
     "output_type": "stream",
     "text": [
      "Number of columns with more than 27% missing values: 30\n",
      "Column names with more than 27% missing values:\n",
      "['bureau_147', 'bureau_148', 'bureau_433', 'bureau_434', 'bureau_435', 'bureau_436', 'bureau_437', 'bureau_438', 'bureau_440', 'bureau_444', 'bureau_445', 'bureau_446', 'bureau_447', 'bureau_448', 'bureau_449', 'bureau_451', 'onus_attribute_6', 'onus_attribute_7', 'onus_attribute_8', 'onus_attribute_9', 'onus_attribute_11', 'onus_attribute_12', 'onus_attribute_14', 'onus_attribute_15', 'onus_attribute_43', 'onus_attribute_44', 'onus_attribute_45', 'onus_attribute_46', 'onus_attribute_47', 'onus_attribute_48']\n"
     ]
    }
   ],
   "source": [
    "columns_with_high_nan=missing[missing > 27]\n",
    "\n",
    "num_high_nan_columns=len(columns_with_high_nan)\n",
    "\n",
    "high_nan_column_names=columns_with_high_nan.index.tolist()\n",
    "\n",
    "print(f\"Number of columns with more than 27% missing values: {num_high_nan_columns}\")\n",
    "print(\"Column names with more than 27% missing values:\")\n",
    "print(high_nan_column_names)"
   ]
  },
  {
   "cell_type": "code",
   "execution_count": 17,
   "metadata": {},
   "outputs": [
    {
     "data": {
      "text/plain": [
       "['bureau_147',\n",
       " 'bureau_148',\n",
       " 'bureau_433',\n",
       " 'bureau_434',\n",
       " 'bureau_435',\n",
       " 'bureau_436',\n",
       " 'bureau_437',\n",
       " 'bureau_438',\n",
       " 'bureau_440',\n",
       " 'bureau_444',\n",
       " 'bureau_445',\n",
       " 'bureau_446',\n",
       " 'bureau_447',\n",
       " 'bureau_448',\n",
       " 'bureau_449',\n",
       " 'bureau_451']"
      ]
     },
     "execution_count": 17,
     "metadata": {},
     "output_type": "execute_result"
    }
   ],
   "source": [
    "b_cols=high_nan_column_names[0:16]\n",
    "b_cols"
   ]
  },
  {
   "cell_type": "code",
   "execution_count": 9,
   "metadata": {},
   "outputs": [
    {
     "data": {
      "text/plain": [
       "bad_flag\n",
       "0    95434\n",
       "1     1372\n",
       "Name: count, dtype: int64"
      ]
     },
     "execution_count": 9,
     "metadata": {},
     "output_type": "execute_result"
    }
   ],
   "source": [
    "freq=data['bad_flag'].value_counts()\n",
    "freq"
   ]
  },
  {
   "cell_type": "code",
   "execution_count": null,
   "metadata": {},
   "outputs": [
    {
     "data": {
      "image/png": "[encoded data removed]",
      "text/plain": [
       "<Figure size 1200x400 with 1 Axes>"
      ]
     },
     "metadata": {},
     "output_type": "display_data"
    }
   ],
   "source": [
    "missing_r=data.isnull().mean(axis=1) * 100\n",
    "missing_percentages_r = missing_r.sort_values(ascending=False)\n",
    "\n",
    "plt.figure(figsize=(12,4))\n",
    "missing_percentages_r.plot(kind='bar', edgecolor='purple')\n",
    "\n",
    "plt.title('Percentage of Missing Values by Row', fontsize=16)\n",
    "plt.xlabel('Rows', fontsize=12)\n",
    "plt.ylabel('Percentage of Missing Values (%)', fontsize=12)\n",
    "plt.xticks(ticks=range(len(missing_percentages_r)), labels=[''] * len(missing_percentages_r), rotation=90)\n",
    "plt.grid(axis='y', linestyle='--', alpha=0.7)\n",
    "\n",
    "plt.tight_layout()\n",
    "plt.show()"
   ]
  },
  {
   "cell_type": "code",
   "execution_count": 11,
   "metadata": {},
   "outputs": [
    {
     "data": {
      "text/plain": [
       "0    1.398026\n",
       "dtype: float64"
      ]
     },
     "execution_count": 11,
     "metadata": {},
     "output_type": "execute_result"
    }
   ],
   "source": [
    "mode_r=missing_r.mode()\n",
    "mode_r"
   ]
  },
  {
   "cell_type": "code",
   "execution_count": 16,
   "metadata": {},
   "outputs": [
    {
     "name": "stdout",
     "output_type": "stream",
     "text": [
      "25233\n"
     ]
    }
   ],
   "source": [
    "rows_with_high_nan=missing_r[missing_r > 50]\n",
    "\n",
    "num_high_nan_rows=len(rows_with_high_nan)\n",
    "print(num_high_nan_rows)\n",
    "high_nan_row_names=rows_with_high_nan.index.tolist()"
   ]
  },
  {
   "cell_type": "code",
   "execution_count": 15,
   "metadata": {},
   "outputs": [
    {
     "name": "stdout",
     "output_type": "stream",
     "text": [
      "Number of rows with more than 50% NaN and bad_flag == 1 is 322\n"
     ]
    }
   ],
   "source": [
    "rows_with_high_nan_data=data.loc[high_nan_row_names]\n",
    "\n",
    "rows_with_bad_flag_1=rows_with_high_nan_data[rows_with_high_nan_data['bad_flag'] == 1]\n",
    "\n",
    "num_bad_flag_1_rows=len(rows_with_bad_flag_1)\n",
    "\n",
    "print(f\"Number of rows with more than 50% NaN and bad_flag == 1 is {num_bad_flag_1_rows}\")"
   ]
  },
  {
   "cell_type": "code",
   "execution_count": 20,
   "metadata": {},
   "outputs": [
    {
     "data": {
      "text/plain": [
       "(71573, 1200)"
      ]
     },
     "execution_count": 20,
     "metadata": {},
     "output_type": "execute_result"
    }
   ],
   "source": [
    "new_data=data.drop(b_cols,axis=1)\n",
    "new_data=new_data.drop(high_nan_row_names,axis=0)\n",
    "new_data.shape"
   ]
  },
  {
   "cell_type": "code",
   "execution_count": 23,
   "metadata": {},
   "outputs": [
    {
     "data": {
      "text/plain": [
       "(71573, 1198)"
      ]
     },
     "execution_count": 23,
     "metadata": {},
     "output_type": "execute_result"
    }
   ],
   "source": [
    "input_nan=new_data.iloc[:,2:]\n",
    "input_nan.shape"
   ]
  },
  {
   "cell_type": "code",
   "execution_count": 25,
   "metadata": {},
   "outputs": [
    {
     "data": {
      "text/plain": [
       "False"
      ]
     },
     "execution_count": 25,
     "metadata": {},
     "output_type": "execute_result"
    }
   ],
   "source": [
    "input=input_nan.fillna(input_nan.median())\n",
    "input.isna().any().any()"
   ]
  },
  {
   "cell_type": "code",
   "execution_count": 27,
   "metadata": {},
   "outputs": [
    {
     "data": {
      "text/plain": [
       "1    0\n",
       "2    0\n",
       "3    0\n",
       "4    0\n",
       "5    0\n",
       "Name: bad_flag, dtype: int64"
      ]
     },
     "execution_count": 27,
     "metadata": {},
     "output_type": "execute_result"
    }
   ],
   "source": [
    "output=new_data.iloc[:,1]\n",
    "output.head()"
   ]
  },
  {
   "cell_type": "code",
   "execution_count": 45,
   "metadata": {},
   "outputs": [
    {
     "name": "stderr",
     "output_type": "stream",
     "text": [
      "c:\\Users\\Fawwaz\\anaconda3\\Lib\\site-packages\\imblearn\\over_sampling\\_adasyn.py:156: FutureWarning: The parameter `n_jobs` has been deprecated in 0.10 and will be removed in 0.12. You can pass an nearest neighbors estimator where `n_jobs` is already set instead.\n",
      "  warnings.warn(\n"
     ]
    },
    {
     "name": "stdout",
     "output_type": "stream",
     "text": [
      "\n",
      "Random Forest Model Metrics:\n",
      "Accuracy: 0.98095973240705\n",
      "Classification Report:\n",
      "               precision    recall  f1-score   support\n",
      "\n",
      "           0       0.98      1.00      0.99     21070\n",
      "           1       1.00      0.80      0.89      2249\n",
      "\n",
      "    accuracy                           0.98     23319\n",
      "   macro avg       0.99      0.90      0.94     23319\n",
      "weighted avg       0.98      0.98      0.98     23319\n",
      "\n"
     ]
    },
    {
     "data": {
      "image/png": "[encoded data removed]",
      "text/plain": [
       "<Figure size 1200x800 with 1 Axes>"
      ]
     },
     "metadata": {},
     "output_type": "display_data"
    },
    {
     "name": "stdout",
     "output_type": "stream",
     "text": [
      "\n",
      "Optimal Threshold for F1-Score: 0.300000\n",
      "\n",
      "Classification Report with Tuned Threshold:\n",
      "              precision    recall  f1-score   support\n",
      "\n",
      "           0       0.99      1.00      0.99     21070\n",
      "           1       0.99      0.89      0.94      2249\n",
      "\n",
      "    accuracy                           0.99     23319\n",
      "   macro avg       0.99      0.95      0.97     23319\n",
      "weighted avg       0.99      0.99      0.99     23319\n",
      "\n",
      "\n",
      "Confusion Matrix with Tuned Threshold:\n",
      "[[21046    24]\n",
      " [  239  2010]]\n"
     ]
    }
   ],
   "source": [
    "adasyn=ADASYN(random_state=81,sampling_strategy=0.1, n_jobs=-1)\n",
    "X_train, y_train=adasyn.fit_resample(input, output)\n",
    "X_train, X_test, y_train, y_test=train_test_split(X_train, y_train, test_size=0.3, random_state=4772)\n",
    "\n",
    "\n",
    "model5=RandomForestClassifier()\n",
    "model5.fit(X_train, y_train)\n",
    "y_pred=model5.predict(X_test)\n",
    "y_pred_proba=model5.predict_proba(X_test)[:, 1]\n",
    "\n",
    "print(\"\\nRandom Forest Model Metrics:\")\n",
    "print(\"Accuracy:\", accuracy_score(y_test, y_pred))\n",
    "print(\"Classification Report:\\n\", classification_report(y_test, y_pred))\n",
    "\n",
    "\n",
    "fpr_rf, tpr_rf, _=roc_curve(y_test, y_pred_proba)\n",
    "roc_auc_rf = auc(fpr_rf, tpr_rf)\n",
    "plt.figure(figsize=(12, 8))\n",
    "plt.plot(fpr_rf, tpr_rf, label=f\"Random Forest (AUC = {roc_auc_rf:.3f})\")\n",
    "plt.xlabel('False Positive Rate')\n",
    "plt.ylabel('True Positive Rate')\n",
    "plt.title('ROC Curve Comparison: Random Forest')\n",
    "plt.legend()\n",
    "plt.show()\n",
    "\n",
    "\n",
    "\n",
    "precision, recall, thresholds=precision_recall_curve(y_test, y_pred_proba)\n",
    "\n",
    "f1_scores=2 * (precision * recall) / (precision + recall)\n",
    "optimal_idx=np.argmax(f1_scores)\n",
    "optimal_threshold=thresholds[optimal_idx]\n",
    "print(f\"\\nOptimal Threshold for F1-Score: {optimal_threshold:.6f}\")\n",
    "y_pred_new_threshold=(y_pred_proba >= optimal_threshold).astype(int)\n",
    "\n",
    "\n",
    "\n",
    "\n",
    "print(\"\\nClassification Report with Tuned Threshold:\")\n",
    "print(classification_report(y_test, y_pred_new_threshold))\n",
    "print(\"\\nConfusion Matrix with Tuned Threshold:\")\n",
    "print(confusion_matrix(y_test, y_pred_new_threshold))"
   ]
  },
  {
   "cell_type": "code",
   "execution_count": 68,
   "metadata": {},
   "outputs": [
    {
     "data": {
      "text/plain": [
       "['random_forest_model_final5.pkl']"
      ]
     },
     "execution_count": 68,
     "metadata": {},
     "output_type": "execute_result"
    }
   ],
   "source": [
    "joblib.dump(model5, 'random_forest_model_final5.pkl')"
   ]
  },
  {
   "cell_type": "code",
   "execution_count": 30,
   "metadata": {},
   "outputs": [
    {
     "data": {
      "text/plain": [
       "True"
      ]
     },
     "execution_count": 30,
     "metadata": {},
     "output_type": "execute_result"
    }
   ],
   "source": [
    "vdata=pd.read_csv('validation_data_to_be_shared.csv')\n",
    "vdata.isna().any().any()"
   ]
  },
  {
   "cell_type": "code",
   "execution_count": 49,
   "metadata": {},
   "outputs": [
    {
     "data": {
      "text/plain": [
       "(41792, 1199)"
      ]
     },
     "execution_count": 49,
     "metadata": {},
     "output_type": "execute_result"
    }
   ],
   "source": [
    "new_val_data=vdata.drop(b_cols,axis=1)\n",
    "new_val_data.shape"
   ]
  },
  {
   "cell_type": "code",
   "execution_count": 50,
   "metadata": {},
   "outputs": [
    {
     "data": {
      "text/plain": [
       "False"
      ]
     },
     "execution_count": 50,
     "metadata": {},
     "output_type": "execute_result"
    }
   ],
   "source": [
    "input_val_nan=new_val_data.iloc[:,1:]\n",
    "\n",
    "input_val=input_val_nan.fillna(input_nan.median())\n",
    "input_val.isna().any().any()"
   ]
  },
  {
   "cell_type": "code",
   "execution_count": 62,
   "metadata": {},
   "outputs": [
    {
     "data": {
      "text/plain": [
       "(41792, 1198)"
      ]
     },
     "execution_count": 62,
     "metadata": {},
     "output_type": "execute_result"
    }
   ],
   "source": [
    "input_val.shape"
   ]
  },
  {
   "cell_type": "code",
   "execution_count": 56,
   "metadata": {},
   "outputs": [
    {
     "data": {
      "text/plain": [
       "(41792,)"
      ]
     },
     "execution_count": 56,
     "metadata": {},
     "output_type": "execute_result"
    }
   ],
   "source": [
    "acc=new_val_data['account_number']\n",
    "acc.shape"
   ]
  },
  {
   "cell_type": "code",
   "execution_count": 57,
   "metadata": {},
   "outputs": [
    {
     "data": {
      "text/plain": [
       "(41792, 2)"
      ]
     },
     "execution_count": 57,
     "metadata": {},
     "output_type": "execute_result"
    }
   ],
   "source": [
    "y_pred_proba=model5.predict_proba(input_val) \n",
    "y_pred_proba.shape\n"
   ]
  },
  {
   "cell_type": "code",
   "execution_count": 74,
   "metadata": {},
   "outputs": [],
   "source": [
    "y_pred_proba_1=y_pred_proba[:,1]"
   ]
  },
  {
   "cell_type": "code",
   "execution_count": 78,
   "metadata": {},
   "outputs": [],
   "source": [
    "val_results=pd.DataFrame({\n",
    "    'account_number': acc,\n",
    "    'probability of default': y_pred_proba_1\n",
    "})\n",
    "\n",
    "val_results.to_csv('val_probabilities.csv', index=False)"
   ]
  },
  {
   "cell_type": "code",
   "execution_count": 80,
   "metadata": {},
   "outputs": [
    {
     "data": {
      "image/png": "[encoded data removed]",
      "text/plain": [
       "<Figure size 1000x1000 with 1 Axes>"
      ]
     },
     "metadata": {},
     "output_type": "display_data"
    }
   ],
   "source": [
    "import matplotlib.pyplot as plt\n",
    "\n",
    "plt.figure(figsize=(10, 10))\n",
    "plt.hist(y_pred_proba_1, bins=30, color='blue', alpha=0.7, edgecolor='black')\n",
    "plt.title('Distribution of Predicted Probabilities (bad_flag1)', fontsize=14)\n",
    "plt.xlabel('Probability', fontsize=12)\n",
    "plt.ylabel('Frequency', fontsize=12)\n",
    "plt.grid(axis='y', alpha=0.75)\n",
    "plt.show()\n"
   ]
  },
  {
   "cell_type": "code",
   "execution_count": null,
   "metadata": {},
   "outputs": [],
   "source": []
  }
 ],
 "metadata": {
  "kernelspec": {
   "display_name": "base",
   "language": "python",
   "name": "python3"
  },
  "language_info": {
   "codemirror_mode": {
    "name": "ipython",
    "version": 3
   },
   "file_extension": ".py",
   "mimetype": "text/x-python",
   "name": "python",
   "nbconvert_exporter": "python",
   "pygments_lexer": "ipython3",
   "version": "3.12.3"
  }
 },
 "nbformat": 4,
 "nbformat_minor": 2
}
